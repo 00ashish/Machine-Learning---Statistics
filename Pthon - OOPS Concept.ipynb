{
 "cells": [
  {
   "cell_type": "markdown",
   "metadata": {},
   "source": [
    "# Object-oriented programming - Python"
   ]
  },
  {
   "cell_type": "code",
   "execution_count": 1,
   "metadata": {},
   "outputs": [
    {
     "data": {
      "text/plain": [
       "1000"
      ]
     },
     "execution_count": 1,
     "metadata": {},
     "output_type": "execute_result"
    }
   ],
   "source": [
    "#Zomoto Example\n",
    "class Zomato:\n",
    "    #methods\n",
    "    \n",
    "    name= 'Ashish'  #Class Variable\n",
    "    def __init__(self,num,price): #Constructor\n",
    "        self.num=num\n",
    "        self.price=price\n",
    "    \n",
    "    #def get_invoice_aomunt(num,price):\n",
    "        #return num*price\n",
    "    def get_invoice_aomunt(self):  #insatnce Method\n",
    "        return self.num*self.price\n",
    "    \n",
    "    #def reserve_table(n):        #Static Method\n",
    "        #return 'Table reserved'\n",
    "        \n",
    "    @classmethod\n",
    "    def reserve_table(cls): #Class Method\n",
    "        return 'Table reserved'+str(n)\n",
    "    \n",
    "#Methods are present in the class. to use any of the methods within class,\n",
    "#You first gain access to the class.How?  By simply Creating Objects(insatnce)\n",
    "    \n",
    "#Method 1 TO accesses class\n",
    "\n",
    "cust1=Zomato(10,100) #Creates an object to the zomoto(class)\n",
    "cust2=Zomato(20,300)\n",
    "\n",
    "#Zomato.get_invoice_aomunt(10,200)\n",
    "\n",
    "cust2.get_invoice_aomunt()\n",
    "cust1.get_invoice_aomunt()"
   ]
  },
  {
   "cell_type": "markdown",
   "metadata": {},
   "source": [
    "Method\n",
    "1. Static Method\n",
    "2. insatnce Method\n",
    "3. Class Method\n",
    "\n",
    "\n",
    "Variables\n",
    "1. Class Variables\n",
    "2. Instance Variable\n",
    "\n"
   ]
  },
  {
   "cell_type": "markdown",
   "metadata": {},
   "source": [
    "# Inheritance"
   ]
  },
  {
   "cell_type": "markdown",
   "metadata": {},
   "source": [
    "Inheritance (in OOPS) is when one class (Child) acquires the properties of other class(Parent)."
   ]
  },
  {
   "cell_type": "code",
   "execution_count": 11,
   "metadata": {},
   "outputs": [
    {
     "name": "stdout",
     "output_type": "stream",
     "text": [
      "Order is delivered from paradise at Hitech-city within a distance of 5km\n",
      "Cannot deliver to the location\n",
      "Cannot deliver to the location\n"
     ]
    }
   ],
   "source": [
    "class Swiggy:     #Parent Class\n",
    "    \n",
    "    def __init__(self,res_name):\n",
    "        self.res_name=res_name\n",
    "        \n",
    "    def order_delivery(self,loc,distance):\n",
    "        if distance<10:\n",
    "            return 'Order is delivered from '+ self.res_name + ' at ' +loc+ ' within a distance of ' +str(distance)+ 'km'\n",
    "        else:\n",
    "            return 'Cannot deliver to the location'\n",
    "        \n",
    "sw=Swiggy('paradise')\n",
    "print(sw.order_delivery('Hitech-city',5))\n",
    "print(zm.order_delivery('Madapur',90))    \n",
    "    \n",
    "class zomato(Swiggy):      #Zomato --> Child Class\n",
    "    \n",
    "    def __init__(self,res_name):\n",
    "        self.res_name=res_name\n",
    "        \n",
    "    def reserve_table(self,n):\n",
    "        return 'Table Reserved for' +str(n)+ ' at '+self.res_name\n",
    "    \n",
    "    \n",
    "zm=zomato('Abhiruchi')\n",
    "print(zm.order_delivery('Madapur',90))"
   ]
  },
  {
   "cell_type": "code",
   "execution_count": 14,
   "metadata": {},
   "outputs": [
    {
     "name": "stdout",
     "output_type": "stream",
     "text": [
      "init from Child Class\n",
      "init from Parent Class Ashish\n"
     ]
    }
   ],
   "source": [
    "#Init Function\n",
    "\n",
    "class Parent:\n",
    "    \n",
    "    def __init__(self,name):\n",
    "        print('init from Parent Class',name)\n",
    "\n",
    "class Child(Parent):\n",
    "    \n",
    "    def __init__(self):\n",
    "        print('init from Child Class')\n",
    "        super().__init__('Ashish')  #Creates Object for Parent Class\n",
    "        \n",
    "        \n",
    "child=Child()"
   ]
  },
  {
   "cell_type": "markdown",
   "metadata": {},
   "source": [
    "# Polymorphism"
   ]
  },
  {
   "cell_type": "markdown",
   "metadata": {},
   "source": [
    "Operator Overloading"
   ]
  },
  {
   "cell_type": "markdown",
   "metadata": {},
   "source": [
    "In OPPS Concepts we Call it as Opeartor Overiding"
   ]
  },
  {
   "cell_type": "code",
   "execution_count": 25,
   "metadata": {},
   "outputs": [
    {
     "data": {
      "text/plain": [
       "4"
      ]
     },
     "execution_count": 25,
     "metadata": {},
     "output_type": "execute_result"
    }
   ],
   "source": [
    "3+5\n",
    "\n",
    "'Data' + ' Science'\n",
    "\n",
    "'Data' + ' 11'\n",
    "\n",
    "3*5\n",
    "\n",
    "3 **5\n",
    "\n",
    "'Science ' * 5\n",
    "\n",
    "\n",
    "len([1,2,3,4,5,6])\n",
    "\n",
    "len('Data')"
   ]
  },
  {
   "cell_type": "code",
   "execution_count": null,
   "metadata": {},
   "outputs": [],
   "source": []
  }
 ],
 "metadata": {
  "kernelspec": {
   "display_name": "Python 3",
   "language": "python",
   "name": "python3"
  },
  "language_info": {
   "codemirror_mode": {
    "name": "ipython",
    "version": 3
   },
   "file_extension": ".py",
   "mimetype": "text/x-python",
   "name": "python",
   "nbconvert_exporter": "python",
   "pygments_lexer": "ipython3",
   "version": "3.8.5"
  }
 },
 "nbformat": 4,
 "nbformat_minor": 4
}
