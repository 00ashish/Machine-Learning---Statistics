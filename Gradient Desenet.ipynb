{
 "cells": [
  {
   "cell_type": "code",
   "execution_count": 3,
   "metadata": {},
   "outputs": [
    {
     "name": "stdout",
     "output_type": "stream",
     "text": [
      "Loss 1162.9828211308854\n",
      "coefficient: 4.495425040139885\n",
      "Loss 15.517828211308835\n",
      "coefficient: 3.9904574959860115\n",
      "Loss 4.043178282113088\n",
      "coefficient: 4.040954250401398\n",
      "Loss 3.928431782821131\n",
      "coefficient: 4.0359045749598605\n",
      "Loss 3.9272843178282115\n",
      "coefficient: 4.036409542504014\n",
      "Loss 3.927272843178282\n",
      "coefficient: 4.036359045749599\n",
      "Loss 3.9272727284317828\n",
      "coefficient: 4.03636409542504\n",
      "Loss 3.927272727284317\n",
      "coefficient: 4.036363590457496\n",
      "Loss 3.9272727272728436\n",
      "coefficient: 4.03636364095425\n",
      "Loss 3.927272727272728\n",
      "coefficient: 4.036363635904575\n",
      "Loss 3.9272727272727272\n",
      "coefficient: 4.0363636364095425\n",
      "Loss 3.9272727272727272\n",
      "coefficient: 4.036363636359046\n",
      "Loss 3.9272727272727272\n",
      "coefficient: 4.036363636364095\n",
      "Loss 3.9272727272727264\n",
      "coefficient: 4.036363636363591\n",
      "Loss 3.9272727272727264\n",
      "coefficient: 4.0363636363636415\n",
      "Loss 3.9272727272727277\n",
      "coefficient: 4.036363636363636\n",
      "Loss 3.9272727272727272\n",
      "coefficient: 4.036363636363636\n",
      "Loss 3.9272727272727272\n",
      "coefficient: 4.036363636363636\n",
      "Loss 3.9272727272727272\n",
      "coefficient: 4.036363636363636\n",
      "Loss 3.9272727272727272\n",
      "coefficient: 4.036363636363636\n",
      "Loss 3.9272727272727272\n",
      "coefficient: 4.036363636363636\n",
      "Loss 3.9272727272727272\n",
      "coefficient: 4.036363636363636\n",
      "Loss 3.9272727272727272\n",
      "coefficient: 4.036363636363636\n",
      "Loss 3.9272727272727272\n",
      "coefficient: 4.036363636363636\n",
      "Loss 3.9272727272727272\n",
      "coefficient: 4.036363636363636\n",
      "Loss 3.9272727272727272\n",
      "coefficient: 4.036363636363636\n",
      "Loss 3.9272727272727272\n",
      "coefficient: 4.036363636363636\n",
      "Loss 3.9272727272727272\n",
      "coefficient: 4.036363636363636\n",
      "Loss 3.9272727272727272\n",
      "coefficient: 4.036363636363636\n",
      "Loss 3.9272727272727272\n",
      "coefficient: 4.036363636363636\n",
      "Loss 3.9272727272727272\n",
      "coefficient: 4.036363636363636\n",
      "Loss 3.9272727272727272\n",
      "coefficient: 4.036363636363636\n",
      "Loss 3.9272727272727272\n",
      "coefficient: 4.036363636363636\n",
      "Loss 3.9272727272727272\n",
      "coefficient: 4.036363636363636\n",
      "Loss 3.9272727272727272\n",
      "coefficient: 4.036363636363636\n",
      "Loss 3.9272727272727272\n",
      "coefficient: 4.036363636363636\n",
      "Loss 3.9272727272727272\n",
      "coefficient: 4.036363636363636\n",
      "Loss 3.9272727272727272\n",
      "coefficient: 4.036363636363636\n",
      "Loss 3.9272727272727272\n",
      "coefficient: 4.036363636363636\n",
      "Loss 3.9272727272727272\n",
      "coefficient: 4.036363636363636\n",
      "Loss 3.9272727272727272\n",
      "coefficient: 4.036363636363636\n",
      "Loss 3.9272727272727272\n",
      "coefficient: 4.036363636363636\n",
      "Loss 3.9272727272727272\n",
      "coefficient: 4.036363636363636\n",
      "Loss 3.9272727272727272\n",
      "coefficient: 4.036363636363636\n",
      "Loss 3.9272727272727272\n",
      "coefficient: 4.036363636363636\n",
      "Loss 3.9272727272727272\n",
      "coefficient: 4.036363636363636\n",
      "Loss 3.9272727272727272\n",
      "coefficient: 4.036363636363636\n",
      "Loss 3.9272727272727272\n",
      "coefficient: 4.036363636363636\n",
      "Loss 3.9272727272727272\n",
      "coefficient: 4.036363636363636\n",
      "Loss 3.9272727272727272\n",
      "coefficient: 4.036363636363636\n",
      "Loss 3.9272727272727272\n",
      "coefficient: 4.036363636363636\n",
      "Loss 3.9272727272727272\n",
      "coefficient: 4.036363636363636\n",
      "Loss 3.9272727272727272\n",
      "coefficient: 4.036363636363636\n",
      "Loss 3.9272727272727272\n",
      "coefficient: 4.036363636363636\n",
      "Loss 3.9272727272727272\n",
      "coefficient: 4.036363636363636\n",
      "Loss 3.9272727272727272\n",
      "coefficient: 4.036363636363636\n",
      "Loss 3.9272727272727272\n",
      "coefficient: 4.036363636363636\n",
      "Loss 3.9272727272727272\n",
      "coefficient: 4.036363636363636\n",
      "Loss 3.9272727272727272\n",
      "coefficient: 4.036363636363636\n",
      "Loss 3.9272727272727272\n",
      "coefficient: 4.036363636363636\n",
      "Loss 3.9272727272727272\n",
      "coefficient: 4.036363636363636\n",
      "Loss 3.9272727272727272\n",
      "coefficient: 4.036363636363636\n",
      "Loss 3.9272727272727272\n",
      "coefficient: 4.036363636363636\n",
      "Loss 3.9272727272727272\n",
      "coefficient: 4.036363636363636\n",
      "Loss 3.9272727272727272\n",
      "coefficient: 4.036363636363636\n",
      "Loss 3.9272727272727272\n",
      "coefficient: 4.036363636363636\n",
      "Loss 3.9272727272727272\n",
      "coefficient: 4.036363636363636\n",
      "Loss 3.9272727272727272\n",
      "coefficient: 4.036363636363636\n",
      "Loss 3.9272727272727272\n",
      "coefficient: 4.036363636363636\n",
      "Loss 3.9272727272727272\n",
      "coefficient: 4.036363636363636\n",
      "Loss 3.9272727272727272\n",
      "coefficient: 4.036363636363636\n",
      "Loss 3.9272727272727272\n",
      "coefficient: 4.036363636363636\n",
      "Loss 3.9272727272727272\n",
      "coefficient: 4.036363636363636\n",
      "Loss 3.9272727272727272\n",
      "coefficient: 4.036363636363636\n",
      "Loss 3.9272727272727272\n",
      "coefficient: 4.036363636363636\n",
      "Loss 3.9272727272727272\n",
      "coefficient: 4.036363636363636\n",
      "Loss 3.9272727272727272\n",
      "coefficient: 4.036363636363636\n",
      "Loss 3.9272727272727272\n",
      "coefficient: 4.036363636363636\n",
      "Loss 3.9272727272727272\n",
      "coefficient: 4.036363636363636\n",
      "Loss 3.9272727272727272\n",
      "coefficient: 4.036363636363636\n",
      "Loss 3.9272727272727272\n",
      "coefficient: 4.036363636363636\n",
      "Loss 3.9272727272727272\n",
      "coefficient: 4.036363636363636\n",
      "Loss 3.9272727272727272\n",
      "coefficient: 4.036363636363636\n",
      "Loss 3.9272727272727272\n",
      "coefficient: 4.036363636363636\n",
      "Loss 3.9272727272727272\n",
      "coefficient: 4.036363636363636\n",
      "Loss 3.9272727272727272\n",
      "coefficient: 4.036363636363636\n",
      "Loss 3.9272727272727272\n",
      "coefficient: 4.036363636363636\n",
      "Loss 3.9272727272727272\n",
      "coefficient: 4.036363636363636\n",
      "Loss 3.9272727272727272\n",
      "coefficient: 4.036363636363636\n",
      "Loss 3.9272727272727272\n",
      "coefficient: 4.036363636363636\n",
      "Loss 3.9272727272727272\n",
      "coefficient: 4.036363636363636\n",
      "Loss 3.9272727272727272\n",
      "coefficient: 4.036363636363636\n",
      "Loss 3.9272727272727272\n",
      "coefficient: 4.036363636363636\n",
      "Loss 3.9272727272727272\n",
      "coefficient: 4.036363636363636\n",
      "Loss 3.9272727272727272\n",
      "coefficient: 4.036363636363636\n",
      "Loss 3.9272727272727272\n",
      "coefficient: 4.036363636363636\n",
      "Loss 3.9272727272727272\n",
      "coefficient: 4.036363636363636\n",
      "Loss 3.9272727272727272\n",
      "coefficient: 4.036363636363636\n",
      "Loss 3.9272727272727272\n",
      "coefficient: 4.036363636363636\n",
      "Loss 3.9272727272727272\n",
      "coefficient: 4.036363636363636\n"
     ]
    }
   ],
   "source": [
    "import numpy as np\n",
    "\n",
    "X=np.array([1,2,3,4,5])\n",
    "y=np.array([6,8,12,16,20])\n",
    "\n",
    "beta1=np.random.randn()\n",
    "\n",
    "learning_rate=0.01\n",
    "\n",
    "for i in range(100):\n",
    "    \n",
    "    y_pred=beta1*X    #predicted Value\n",
    "    loss=np.square(y-y_pred).sum()\n",
    "    \n",
    "    print('Loss',loss)\n",
    "    beta1_derivative= -(2*(y-y_pred)*X).sum()\n",
    "    beta1=beta1-(learning_rate*beta1_derivative)\n",
    "    \n",
    "    print('coefficient:',beta1)"
   ]
  },
  {
   "cell_type": "code",
   "execution_count": 6,
   "metadata": {},
   "outputs": [
    {
     "data": {
      "text/plain": [
       "tensor([1, 2, 3, 4, 5, 6])"
      ]
     },
     "execution_count": 6,
     "metadata": {},
     "output_type": "execute_result"
    }
   ],
   "source": [
    "import torch\n",
    "\n",
    "np.array([1,2,3,4,5,6])\n",
    "\n",
    "torch.tensor([1,2,3,4,5,6])"
   ]
  },
  {
   "cell_type": "code",
   "execution_count": 12,
   "metadata": {},
   "outputs": [
    {
     "name": "stdout",
     "output_type": "stream",
     "text": [
      "Requirement already satisfied: torch in c:\\users\\aksom\\anaconda3\\lib\\site-packages (1.9.0)\n",
      "Requirement already satisfied: typing-extensions in c:\\users\\aksom\\anaconda3\\lib\\site-packages (from torch) (3.7.4.3)\n"
     ]
    }
   ],
   "source": [
    "!pip install torch"
   ]
  },
  {
   "cell_type": "code",
   "execution_count": 14,
   "metadata": {},
   "outputs": [
    {
     "data": {
      "text/plain": [
       "tensor([32.])"
      ]
     },
     "execution_count": 14,
     "metadata": {},
     "output_type": "execute_result"
    }
   ],
   "source": [
    "#Automatic Differentiation(auto_grad)\n",
    "\n",
    "x=torch.tensor([4.0],requires_grad=True)\n",
    "#x=torch.tensor([4.0],requires_grad = Time)\n",
    "\n",
    "y=4*x**2\n",
    "\n",
    "y.backward()\n",
    "\n",
    "x.grad\n"
   ]
  },
  {
   "cell_type": "code",
   "execution_count": 15,
   "metadata": {},
   "outputs": [
    {
     "name": "stdout",
     "output_type": "stream",
     "text": [
      "Requirement already satisfied: scipy in c:\\users\\aksom\\anaconda3\\lib\\site-packages (1.5.2)\n",
      "Requirement already satisfied: numpy>=1.14.5 in c:\\users\\aksom\\anaconda3\\lib\\site-packages (from scipy) (1.19.2)\n"
     ]
    }
   ],
   "source": [
    "!pip install scipy"
   ]
  },
  {
   "cell_type": "code",
   "execution_count": 16,
   "metadata": {},
   "outputs": [
    {
     "name": "stdout",
     "output_type": "stream",
     "text": [
      "Collecting pip\n",
      "  Downloading pip-21.2.4-py3-none-any.whl (1.6 MB)\n",
      "Installing collected packages: pip\n",
      "  Attempting uninstall: pip\n",
      "    Found existing installation: pip 20.2.4\n",
      "    Uninstalling pip-20.2.4:\n",
      "      Successfully uninstalled pip-20.2.4\n"
     ]
    },
    {
     "name": "stderr",
     "output_type": "stream",
     "text": [
      "ERROR: Could not install packages due to an EnvironmentError: [WinError 5] Access is denied: 'C:\\\\Users\\\\aksom\\\\AppData\\\\Local\\\\Temp\\\\pip-uninstall-3ckvravm\\\\pip.exe'\n",
      "Consider using the `--user` option or check the permissions.\n",
      "\n"
     ]
    }
   ],
   "source": [
    "!pip install --upgrade pip"
   ]
  },
  {
   "cell_type": "code",
   "execution_count": null,
   "metadata": {},
   "outputs": [],
   "source": [
    "!pip install tensorflow"
   ]
  },
  {
   "cell_type": "code",
   "execution_count": null,
   "metadata": {},
   "outputs": [],
   "source": []
  }
 ],
 "metadata": {
  "kernelspec": {
   "display_name": "Python 3",
   "language": "python",
   "name": "python3"
  },
  "language_info": {
   "codemirror_mode": {
    "name": "ipython",
    "version": 3
   },
   "file_extension": ".py",
   "mimetype": "text/x-python",
   "name": "python",
   "nbconvert_exporter": "python",
   "pygments_lexer": "ipython3",
   "version": "3.8.5"
  }
 },
 "nbformat": 4,
 "nbformat_minor": 4
}
