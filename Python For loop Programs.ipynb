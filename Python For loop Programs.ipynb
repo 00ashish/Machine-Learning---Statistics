{
 "cells": [
  {
   "cell_type": "markdown",
   "metadata": {},
   "source": [
    "# Python For Loop - program"
   ]
  },
  {
   "cell_type": "code",
   "execution_count": 16,
   "metadata": {},
   "outputs": [
    {
     "data": {
      "text/plain": [
       "[]"
      ]
     },
     "execution_count": 16,
     "metadata": {},
     "output_type": "execute_result"
    }
   ],
   "source": [
    "#Python program to find those numbers which are divisible by 7 and multiple of 5, between 1500 & 2700\n",
    "\n",
    "\n",
    "value=[]\n",
    "\n",
    "for i in range(1500, 2701):\n",
    "    if (x%7==0) and (x%5==0):\n",
    "        value.append(i)\n",
    "value"
   ]
  },
  {
   "cell_type": "code",
   "execution_count": 21,
   "metadata": {},
   "outputs": [
    {
     "data": {
      "text/plain": [
       "' *   * \\n *   * \\n ** ** \\n * * * \\n *   * \\n *   * \\n *   * \\n'"
      ]
     },
     "execution_count": 21,
     "metadata": {},
     "output_type": "execute_result"
    }
   ],
   "source": [
    "#Python program to print alphabet pattern 'M'.\n",
    "\n",
    "pattern=\"\";\n",
    "for row in range (0,7):\n",
    "    for column in range(0,7):\n",
    "        if (column == 1 or column ==5 or (row == 2 and (column == 2 or column == 4)) or (row == 3 and column ==3)):\n",
    "            pattern=pattern+\"*\"\n",
    "        else:\n",
    "                pattern=pattern+\" \"\n",
    "    pattern=pattern+\"\\n\"\n",
    "    \n",
    "pattern"
   ]
  },
  {
   "cell_type": "code",
   "execution_count": 24,
   "metadata": {},
   "outputs": [
    {
     "data": {
      "text/plain": [
       "5"
      ]
     },
     "execution_count": 24,
     "metadata": {},
     "output_type": "execute_result"
    }
   ],
   "source": [
    "list = [1,2,3,4,5,6,7,8,9,10]\n",
    "\n",
    "n=5\n",
    "\n",
    "for i in list:\n",
    "    c=n*1\n",
    "\n",
    "c"
   ]
  },
  {
   "cell_type": "code",
   "execution_count": 27,
   "metadata": {},
   "outputs": [
    {
     "name": "stdout",
     "output_type": "stream",
     "text": [
      "Smallest element is: 4\n"
     ]
    }
   ],
   "source": [
    "# Python program to find smallest\n",
    "# number in a list\n",
    "\n",
    "# list of numbers\n",
    "list1 = [10, 20, 4, 45, 99]\n",
    "\n",
    "# sorting the list\n",
    "list1.sort()\n",
    "\n",
    "# printing the first element\n",
    "print(\"Smallest element is:\", *list1[:1])\n"
   ]
  },
  {
   "cell_type": "code",
   "execution_count": 36,
   "metadata": {},
   "outputs": [
    {
     "data": {
      "text/plain": [
       "[4]"
      ]
     },
     "execution_count": 36,
     "metadata": {},
     "output_type": "execute_result"
    }
   ],
   "source": [
    "list1= [10,4,5,6,33]\n",
    "list1.sort()\n",
    "\n",
    "list1[1:]\n",
    "list1[:1]"
   ]
  },
  {
   "cell_type": "code",
   "execution_count": 33,
   "metadata": {},
   "outputs": [
    {
     "data": {
      "text/plain": [
       "4"
      ]
     },
     "execution_count": 33,
     "metadata": {},
     "output_type": "execute_result"
    }
   ],
   "source": [
    "min(list1)"
   ]
  },
  {
   "cell_type": "code",
   "execution_count": 37,
   "metadata": {},
   "outputs": [
    {
     "name": "stdout",
     "output_type": "stream",
     "text": [
      "Enter number of elements in list: 5\n",
      "Enter elements: 2\n",
      "Enter elements: 1\n",
      "Enter elements: 1\n",
      "Enter elements: 9\n",
      "Enter elements: 7\n",
      "Smallest element is: 1\n"
     ]
    }
   ],
   "source": [
    "# Python program to find smallest\n",
    "# number in a list\n",
    "\n",
    "# creating empty list\n",
    "list1 = []\n",
    "\n",
    "# asking number of elements to put in list\n",
    "num = int(input(\"Enter number of elements in list: \"))\n",
    "\n",
    "# iterating till num to append elements in list\n",
    "for i in range(1, num + 1):\n",
    "\tele= int(input(\"Enter elements: \"))\n",
    "\tlist1.append(ele)\n",
    "\t\n",
    "# print maximum element\n",
    "print(\"Smallest element is:\", min(list1))\n"
   ]
  },
  {
   "cell_type": "code",
   "execution_count": 38,
   "metadata": {},
   "outputs": [
    {
     "name": "stdout",
     "output_type": "stream",
     "text": [
      "Enter The Number of Elements in list5\n",
      "Enter the Elements41\n",
      "Enter the Elements56\n",
      "Enter the Elements36\n",
      "Enter the Elements99\n",
      "Enter the Elements1023\n"
     ]
    },
    {
     "data": {
      "text/plain": [
       "1023"
      ]
     },
     "execution_count": 38,
     "metadata": {},
     "output_type": "execute_result"
    }
   ],
   "source": [
    "list2=[]\n",
    "\n",
    "num = int(input(\"Enter The Number of Elements in list\"))\n",
    "\n",
    "for i in range (1, num+1):\n",
    "    ele = int(input(\"Enter the Elements\"))\n",
    "    list2.append(ele)\n",
    "    \n",
    "max(list2)"
   ]
  },
  {
   "cell_type": "code",
   "execution_count": null,
   "metadata": {},
   "outputs": [],
   "source": [
    "# Python program to find second largest\n",
    "# number in a list\n",
    "\n",
    "# creating empty list\n",
    "list1 = []\n",
    "\n",
    "# asking number of elements to put in list\n",
    "num = int(input(\"Enter number of elements in list: \"))\n",
    "\n",
    "# iterating till num to append elements in list\n",
    "for i in range(1, num + 1):\n",
    "\tele = int(input(\"Enter elements: \"))\n",
    "\tlist1.append(ele)\n",
    "\n",
    "'''\n",
    "# sort the list\n",
    "list1.sort()\n",
    "\t\n",
    "# print second maximum element\n",
    "print(\"Second largest element is:\", list1[-2])\n",
    "\n",
    "'''\n",
    "\n",
    "# print second maximum element using sorted() method\n",
    "print(\"Second largest element is:\", sorted(list1)[-2])\n"
   ]
  },
  {
   "cell_type": "code",
   "execution_count": null,
   "metadata": {},
   "outputs": [],
   "source": [
    "list3=[]\n",
    "\n",
    "num = int(input(\"Enter the Number of elements in list:\"))\n",
    "\n",
    "for i in range (1,num+1):\n",
    "    ele = int(input(\"Enter elements: \"))\n",
    "    list3.append(ele)\n",
    "list3.sort()\n",
    "\n",
    "list3[-2]\n",
    "list3"
   ]
  },
  {
   "cell_type": "code",
   "execution_count": null,
   "metadata": {},
   "outputs": [],
   "source": [
    "sorted(list3)[-2]"
   ]
  },
  {
   "cell_type": "code",
   "execution_count": null,
   "metadata": {},
   "outputs": [],
   "source": [
    "list3.sort()"
   ]
  },
  {
   "cell_type": "code",
   "execution_count": null,
   "metadata": {},
   "outputs": [],
   "source": [
    "def exec_code():\n",
    "    LOC = \"\"\"\n",
    "    \n",
    "exec(LOC)\n",
    "exec_code()"
   ]
  },
  {
   "cell_type": "code",
   "execution_count": null,
   "metadata": {},
   "outputs": [],
   "source": [
    "# function which return reverse of a string\n",
    "\n",
    "def isPalindrome(s):\n",
    "\treturn s == s[::-1]\n",
    "\n",
    "\n",
    "# Driver code\n",
    "s = \"malayalam\"\n",
    "ans = isPalindrome(s)\n",
    "\n",
    "if ans:\n",
    "\tprint(\"Yes\")\n",
    "else:\n",
    "\tprint(\"No\")\n"
   ]
  },
  {
   "cell_type": "code",
   "execution_count": null,
   "metadata": {},
   "outputs": [],
   "source": [
    "def ispalindrome(s):\n",
    "    return s= s[::-1]\n",
    "\n",
    "s=mum\n",
    "ans=isPalindrome(s):\n",
    "    \n",
    "if ans:\n",
    "    (\"Yes\")\n",
    "    else:\n",
    "    (\"No\")"
   ]
  },
  {
   "cell_type": "code",
   "execution_count": null,
   "metadata": {},
   "outputs": [],
   "source": []
  },
  {
   "cell_type": "code",
   "execution_count": null,
   "metadata": {},
   "outputs": [],
   "source": []
  }
 ],
 "metadata": {
  "kernelspec": {
   "display_name": "Python 3",
   "language": "python",
   "name": "python3"
  },
  "language_info": {
   "codemirror_mode": {
    "name": "ipython",
    "version": 3
   },
   "file_extension": ".py",
   "mimetype": "text/x-python",
   "name": "python",
   "nbconvert_exporter": "python",
   "pygments_lexer": "ipython3",
   "version": "3.8.5"
  }
 },
 "nbformat": 4,
 "nbformat_minor": 4
}
