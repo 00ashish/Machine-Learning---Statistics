{
 "cells": [
  {
   "cell_type": "markdown",
   "metadata": {},
   "source": [
    "# Assert"
   ]
  },
  {
   "cell_type": "markdown",
   "metadata": {},
   "source": [
    "Assert KeyWord in Python Helps to debug the Code\n"
   ]
  },
  {
   "cell_type": "code",
   "execution_count": 2,
   "metadata": {},
   "outputs": [
    {
     "ename": "AssertionError",
     "evalue": "Value of a must be 5",
     "output_type": "error",
     "traceback": [
      "\u001b[1;31m---------------------------------------------------------------------------\u001b[0m",
      "\u001b[1;31mAssertionError\u001b[0m                            Traceback (most recent call last)",
      "\u001b[1;32m<ipython-input-2-77bae5dc4e8b>\u001b[0m in \u001b[0;36m<module>\u001b[1;34m\u001b[0m\n\u001b[0;32m      3\u001b[0m \u001b[1;31m#asser Condition , 'error message'  ---> Syntax Error\u001b[0m\u001b[1;33m\u001b[0m\u001b[1;33m\u001b[0m\u001b[1;33m\u001b[0m\u001b[0m\n\u001b[0;32m      4\u001b[0m \u001b[1;33m\u001b[0m\u001b[0m\n\u001b[1;32m----> 5\u001b[1;33m \u001b[1;32massert\u001b[0m \u001b[0ma\u001b[0m\u001b[1;33m==\u001b[0m\u001b[1;36m15\u001b[0m\u001b[1;33m,\u001b[0m \u001b[1;34m'Value of a must be 5'\u001b[0m\u001b[1;33m\u001b[0m\u001b[1;33m\u001b[0m\u001b[0m\n\u001b[0m\u001b[0;32m      6\u001b[0m \u001b[1;33m\u001b[0m\u001b[0m\n\u001b[0;32m      7\u001b[0m \u001b[0mprint\u001b[0m\u001b[1;33m(\u001b[0m\u001b[1;34m'Sucessfull'\u001b[0m\u001b[1;33m)\u001b[0m\u001b[1;33m\u001b[0m\u001b[1;33m\u001b[0m\u001b[0m\n",
      "\u001b[1;31mAssertionError\u001b[0m: Value of a must be 5"
     ]
    }
   ],
   "source": [
    "a=5\n",
    "\n",
    "#asser Condition , 'error message'  ---> Syntax Error\n",
    "\n",
    "assert a==15, 'Value of a must be 5'\n",
    "\n",
    "print('Sucessfull')"
   ]
  },
  {
   "cell_type": "code",
   "execution_count": 7,
   "metadata": {},
   "outputs": [
    {
     "data": {
      "text/plain": [
       "[49, 25, 4761, 81, 2025, 625, 25, 1225]"
      ]
     },
     "execution_count": 7,
     "metadata": {},
     "output_type": "execute_result"
    }
   ],
   "source": [
    "def squares(a_list):\n",
    "    \n",
    "    assert len(a_list)!=0, 'List Cannot be empty'\n",
    "    return [ele**2 for ele in a_list]\n",
    "\n",
    "squares([7,5,69,9,45,25,5,35])"
   ]
  },
  {
   "cell_type": "markdown",
   "metadata": {},
   "source": [
    "# Decorators\n"
   ]
  },
  {
   "cell_type": "markdown",
   "metadata": {},
   "source": [
    "Used to modify the state  of function or add additional functionality to an function"
   ]
  },
  {
   "cell_type": "code",
   "execution_count": 27,
   "metadata": {},
   "outputs": [
    {
     "name": "stdout",
     "output_type": "stream",
     "text": [
      "Time taken: 0.0ms\n",
      "[4, 25, 36, 64, 49, 121, 81, 625]\n",
      "Time taken: 0.0ms\n",
      "[8, 125, 216, 512, 343]\n"
     ]
    }
   ],
   "source": [
    "import time\n",
    "\n",
    "def get_time(fun):  # get_time is the name of your decorator\n",
    "    def wrapper(args):\n",
    "        start_time=time.time()\n",
    "        res=fun(args)\n",
    "        end_time=time.time()\n",
    "        print('Time taken: '+str((end_time-start_time)*1000)+'ms')\n",
    "        \n",
    "        return res\n",
    "    \n",
    "    return wrapper\n",
    "\n",
    "@get_time\n",
    "def squares(a_list):\n",
    "    sq=[]\n",
    "    for ele in a_list:\n",
    "        sq.append(ele**2)\n",
    "    return sq\n",
    "\n",
    "@get_time\n",
    "def cubes(a_list):\n",
    "    cu=[]\n",
    "    for ele in a_list:\n",
    "        cu.append(ele**3)\n",
    "    return cu\n",
    "\n",
    "print(squares([2,5,6,8,7,11,9,25]))\n",
    "print(cubes([2,5,6,8,7]))"
   ]
  },
  {
   "cell_type": "code",
   "execution_count": 28,
   "metadata": {},
   "outputs": [
    {
     "data": {
      "text/plain": [
       "'Sun Sep 12 12:49:59 2021'"
      ]
     },
     "execution_count": 28,
     "metadata": {},
     "output_type": "execute_result"
    }
   ],
   "source": [
    "time.ctime(time.time())"
   ]
  },
  {
   "cell_type": "code",
   "execution_count": null,
   "metadata": {},
   "outputs": [],
   "source": []
  },
  {
   "cell_type": "code",
   "execution_count": null,
   "metadata": {},
   "outputs": [],
   "source": []
  }
 ],
 "metadata": {
  "kernelspec": {
   "display_name": "Python 3",
   "language": "python",
   "name": "python3"
  },
  "language_info": {
   "codemirror_mode": {
    "name": "ipython",
    "version": 3
   },
   "file_extension": ".py",
   "mimetype": "text/x-python",
   "name": "python",
   "nbconvert_exporter": "python",
   "pygments_lexer": "ipython3",
   "version": "3.8.5"
  }
 },
 "nbformat": 4,
 "nbformat_minor": 4
}
